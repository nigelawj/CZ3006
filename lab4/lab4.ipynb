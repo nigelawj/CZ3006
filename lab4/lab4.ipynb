{
 "cells": [
  {
   "cell_type": "markdown",
   "metadata": {},
   "source": [
    "# CZ3006 Net Centric Computing Lab 4\n",
    "Analysing Network traffic log data in Python"
   ]
  },
  {
   "cell_type": "code",
   "execution_count": 1,
   "metadata": {},
   "outputs": [],
   "source": [
    "import pandas as pd\n",
    "import numpy as np\n",
    "\n",
    "import matplotlib.pyplot as plt\n",
    "%matplotlib inline"
   ]
  },
  {
   "cell_type": "markdown",
   "metadata": {},
   "source": [
    "### Reading in dataframe"
   ]
  },
  {
   "cell_type": "code",
   "execution_count": 2,
   "metadata": {},
   "outputs": [
    {
     "name": "stdout",
     "output_type": "stream",
     "text": [
      "<class 'pandas.core.frame.DataFrame'>\n",
      "RangeIndex: 69370 entries, 0 to 69369\n",
      "Data columns (total 21 columns):\n",
      "0     69370 non-null object\n",
      "1     69370 non-null object\n",
      "2     69370 non-null int64\n",
      "3     69370 non-null int64\n",
      "4     69370 non-null object\n",
      "5     69370 non-null object\n",
      "6     69370 non-null object\n",
      "7     69370 non-null float64\n",
      "8     69370 non-null int64\n",
      "9     69370 non-null object\n",
      "10    69370 non-null object\n",
      "11    69370 non-null int64\n",
      "12    69370 non-null object\n",
      "13    69370 non-null int64\n",
      "14    69370 non-null float64\n",
      "15    69370 non-null int64\n",
      "16    69370 non-null object\n",
      "17    69370 non-null int64\n",
      "18    69370 non-null int64\n",
      "19    69370 non-null int64\n",
      "20    1305 non-null float64\n",
      "dtypes: float64(3), int64(9), object(9)\n",
      "memory usage: 11.1+ MB\n"
     ]
    }
   ],
   "source": [
    "file = 'SFlow_Data_1.csv.csv' # Replace file with csv filepath\n",
    "df = pd.read_csv(file, header=None)\n",
    "df.info()"
   ]
  },
  {
   "cell_type": "code",
   "execution_count": 3,
   "metadata": {},
   "outputs": [
    {
     "data": {
      "text/plain": [
       "FLOW    68065\n",
       "CNTR     1305\n",
       "Name: 0, dtype: int64"
      ]
     },
     "execution_count": 3,
     "metadata": {},
     "output_type": "execute_result"
    }
   ],
   "source": [
    "df[0].value_counts()"
   ]
  },
  {
   "cell_type": "markdown",
   "metadata": {},
   "source": [
    "#### Upon inspection of dataframe, we note the following:\n",
    "- Columns are unlabelled; we will label them accordingly\n",
    "- First column, which is the type column, has 2 values, 'FLOW' and 'CNTR'\n",
    "    - CNTR rows have 21 column values; They are the counter samples. \n",
    "    - Since we are looking at FLOW entries only, we drop the rows of type CNTR."
   ]
  },
  {
   "cell_type": "code",
   "execution_count": 4,
   "metadata": {},
   "outputs": [],
   "source": [
    "# Clean dataframe\n",
    "cols = [\n",
    "    'type', 'sflow_agent_address', 'inputPort', 'outputPort', 'src_MAC', \n",
    "    'dst_MAC', 'ethernet_type', 'in_vlan', 'out_vlan', 'src_IP', \n",
    "    'dst_IP', 'IP_protocol', 'ip_tos', 'ip_ttl', 'udp_src_port/tcp_src_port/icmp_type', \n",
    "    'udp_dst_port/tcp_dst_port/icmp_code', 'tcp_flags', 'packet_size', 'IP_size', 'sampling rate',\n",
    "    '21' # 21 to signify the extra column of CNTR rows for now\n",
    "]\n",
    "\n",
    "# Set columns\n",
    "df.columns = cols"
   ]
  },
  {
   "cell_type": "code",
   "execution_count": 5,
   "metadata": {},
   "outputs": [
    {
     "data": {
      "text/html": [
       "<div>\n",
       "<style scoped>\n",
       "    .dataframe tbody tr th:only-of-type {\n",
       "        vertical-align: middle;\n",
       "    }\n",
       "\n",
       "    .dataframe tbody tr th {\n",
       "        vertical-align: top;\n",
       "    }\n",
       "\n",
       "    .dataframe thead th {\n",
       "        text-align: right;\n",
       "    }\n",
       "</style>\n",
       "<table border=\"1\" class=\"dataframe\">\n",
       "  <thead>\n",
       "    <tr style=\"text-align: right;\">\n",
       "      <th></th>\n",
       "      <th>index</th>\n",
       "      <th>type</th>\n",
       "      <th>sflow_agent_address</th>\n",
       "      <th>inputPort</th>\n",
       "      <th>outputPort</th>\n",
       "      <th>src_MAC</th>\n",
       "      <th>dst_MAC</th>\n",
       "      <th>ethernet_type</th>\n",
       "      <th>in_vlan</th>\n",
       "      <th>out_vlan</th>\n",
       "      <th>...</th>\n",
       "      <th>IP_protocol</th>\n",
       "      <th>ip_tos</th>\n",
       "      <th>ip_ttl</th>\n",
       "      <th>udp_src_port/tcp_src_port/icmp_type</th>\n",
       "      <th>udp_dst_port/tcp_dst_port/icmp_code</th>\n",
       "      <th>tcp_flags</th>\n",
       "      <th>packet_size</th>\n",
       "      <th>IP_size</th>\n",
       "      <th>sampling rate</th>\n",
       "      <th>21</th>\n",
       "    </tr>\n",
       "  </thead>\n",
       "  <tbody>\n",
       "    <tr>\n",
       "      <th>0</th>\n",
       "      <td>0</td>\n",
       "      <td>FLOW</td>\n",
       "      <td>aa.aa.aa.aa</td>\n",
       "      <td>137</td>\n",
       "      <td>200</td>\n",
       "      <td>d404ff55fd4d</td>\n",
       "      <td>80711fc76001</td>\n",
       "      <td>0x0800</td>\n",
       "      <td>919.0</td>\n",
       "      <td>280</td>\n",
       "      <td>...</td>\n",
       "      <td>6</td>\n",
       "      <td>0x00</td>\n",
       "      <td>50</td>\n",
       "      <td>51216.0</td>\n",
       "      <td>23505</td>\n",
       "      <td>0x10</td>\n",
       "      <td>1518</td>\n",
       "      <td>1500</td>\n",
       "      <td>2048</td>\n",
       "      <td>NaN</td>\n",
       "    </tr>\n",
       "    <tr>\n",
       "      <th>1</th>\n",
       "      <td>1</td>\n",
       "      <td>FLOW</td>\n",
       "      <td>aa.aa.aa.aa</td>\n",
       "      <td>129</td>\n",
       "      <td>193</td>\n",
       "      <td>609c9f851b00</td>\n",
       "      <td>0031466b23cf</td>\n",
       "      <td>0x0800</td>\n",
       "      <td>11.0</td>\n",
       "      <td>919</td>\n",
       "      <td>...</td>\n",
       "      <td>6</td>\n",
       "      <td>0x00</td>\n",
       "      <td>56</td>\n",
       "      <td>23159.0</td>\n",
       "      <td>80</td>\n",
       "      <td>0x10</td>\n",
       "      <td>74</td>\n",
       "      <td>52</td>\n",
       "      <td>2048</td>\n",
       "      <td>NaN</td>\n",
       "    </tr>\n",
       "    <tr>\n",
       "      <th>2</th>\n",
       "      <td>2</td>\n",
       "      <td>FLOW</td>\n",
       "      <td>aa.aa.aa.aa</td>\n",
       "      <td>137</td>\n",
       "      <td>200</td>\n",
       "      <td>d404ff55fd4d</td>\n",
       "      <td>80711fc76001</td>\n",
       "      <td>0x0800</td>\n",
       "      <td>919.0</td>\n",
       "      <td>280</td>\n",
       "      <td>...</td>\n",
       "      <td>6</td>\n",
       "      <td>0x00</td>\n",
       "      <td>50</td>\n",
       "      <td>50041.0</td>\n",
       "      <td>20739</td>\n",
       "      <td>0x10</td>\n",
       "      <td>1518</td>\n",
       "      <td>1500</td>\n",
       "      <td>2048</td>\n",
       "      <td>NaN</td>\n",
       "    </tr>\n",
       "    <tr>\n",
       "      <th>3</th>\n",
       "      <td>3</td>\n",
       "      <td>FLOW</td>\n",
       "      <td>aa.aa.aa.aa</td>\n",
       "      <td>129</td>\n",
       "      <td>135</td>\n",
       "      <td>609c9f851b00</td>\n",
       "      <td>002688cd5fc7</td>\n",
       "      <td>0x0800</td>\n",
       "      <td>11.0</td>\n",
       "      <td>919</td>\n",
       "      <td>...</td>\n",
       "      <td>17</td>\n",
       "      <td>0x00</td>\n",
       "      <td>120</td>\n",
       "      <td>54241.0</td>\n",
       "      <td>26510</td>\n",
       "      <td>0x10</td>\n",
       "      <td>116</td>\n",
       "      <td>94</td>\n",
       "      <td>2048</td>\n",
       "      <td>NaN</td>\n",
       "    </tr>\n",
       "    <tr>\n",
       "      <th>4</th>\n",
       "      <td>4</td>\n",
       "      <td>FLOW</td>\n",
       "      <td>aa.aa.aa.aa</td>\n",
       "      <td>130</td>\n",
       "      <td>199</td>\n",
       "      <td>00239cd087c1</td>\n",
       "      <td>544b8cf9a7df</td>\n",
       "      <td>0x0800</td>\n",
       "      <td>919.0</td>\n",
       "      <td>600</td>\n",
       "      <td>...</td>\n",
       "      <td>6</td>\n",
       "      <td>0x00</td>\n",
       "      <td>56</td>\n",
       "      <td>53923.0</td>\n",
       "      <td>34262</td>\n",
       "      <td>0x10</td>\n",
       "      <td>70</td>\n",
       "      <td>52</td>\n",
       "      <td>2048</td>\n",
       "      <td>NaN</td>\n",
       "    </tr>\n",
       "  </tbody>\n",
       "</table>\n",
       "<p>5 rows × 22 columns</p>\n",
       "</div>"
      ],
      "text/plain": [
       "   index  type sflow_agent_address  inputPort  outputPort       src_MAC  \\\n",
       "0      0  FLOW         aa.aa.aa.aa        137         200  d404ff55fd4d   \n",
       "1      1  FLOW         aa.aa.aa.aa        129         193  609c9f851b00   \n",
       "2      2  FLOW         aa.aa.aa.aa        137         200  d404ff55fd4d   \n",
       "3      3  FLOW         aa.aa.aa.aa        129         135  609c9f851b00   \n",
       "4      4  FLOW         aa.aa.aa.aa        130         199  00239cd087c1   \n",
       "\n",
       "        dst_MAC ethernet_type  in_vlan  out_vlan  ... IP_protocol ip_tos  \\\n",
       "0  80711fc76001        0x0800    919.0       280  ...           6   0x00   \n",
       "1  0031466b23cf        0x0800     11.0       919  ...           6   0x00   \n",
       "2  80711fc76001        0x0800    919.0       280  ...           6   0x00   \n",
       "3  002688cd5fc7        0x0800     11.0       919  ...          17   0x00   \n",
       "4  544b8cf9a7df        0x0800    919.0       600  ...           6   0x00   \n",
       "\n",
       "   ip_ttl udp_src_port/tcp_src_port/icmp_type  \\\n",
       "0      50                             51216.0   \n",
       "1      56                             23159.0   \n",
       "2      50                             50041.0   \n",
       "3     120                             54241.0   \n",
       "4      56                             53923.0   \n",
       "\n",
       "   udp_dst_port/tcp_dst_port/icmp_code  tcp_flags  packet_size IP_size  \\\n",
       "0                                23505       0x10         1518    1500   \n",
       "1                                   80       0x10           74      52   \n",
       "2                                20739       0x10         1518    1500   \n",
       "3                                26510       0x10          116      94   \n",
       "4                                34262       0x10           70      52   \n",
       "\n",
       "   sampling rate  21  \n",
       "0           2048 NaN  \n",
       "1           2048 NaN  \n",
       "2           2048 NaN  \n",
       "3           2048 NaN  \n",
       "4           2048 NaN  \n",
       "\n",
       "[5 rows x 22 columns]"
      ]
     },
     "execution_count": 5,
     "metadata": {},
     "output_type": "execute_result"
    }
   ],
   "source": [
    "# Only include entries of type FLOW\n",
    "df = df[df['type'] == 'FLOW'].reset_index()\n",
    "df.head()"
   ]
  },
  {
   "cell_type": "code",
   "execution_count": 6,
   "metadata": {},
   "outputs": [
    {
     "name": "stdout",
     "output_type": "stream",
     "text": [
      "<class 'pandas.core.frame.DataFrame'>\n",
      "RangeIndex: 68065 entries, 0 to 68064\n",
      "Data columns (total 22 columns):\n",
      "index                                  68065 non-null int64\n",
      "type                                   68065 non-null object\n",
      "sflow_agent_address                    68065 non-null object\n",
      "inputPort                              68065 non-null int64\n",
      "outputPort                             68065 non-null int64\n",
      "src_MAC                                68065 non-null object\n",
      "dst_MAC                                68065 non-null object\n",
      "ethernet_type                          68065 non-null object\n",
      "in_vlan                                68065 non-null float64\n",
      "out_vlan                               68065 non-null int64\n",
      "src_IP                                 68065 non-null object\n",
      "dst_IP                                 68065 non-null object\n",
      "IP_protocol                            68065 non-null int64\n",
      "ip_tos                                 68065 non-null object\n",
      "ip_ttl                                 68065 non-null int64\n",
      "udp_src_port/tcp_src_port/icmp_type    68065 non-null float64\n",
      "udp_dst_port/tcp_dst_port/icmp_code    68065 non-null int64\n",
      "tcp_flags                              68065 non-null object\n",
      "packet_size                            68065 non-null int64\n",
      "IP_size                                68065 non-null int64\n",
      "sampling rate                          68065 non-null int64\n",
      "21                                     0 non-null float64\n",
      "dtypes: float64(3), int64(10), object(9)\n",
      "memory usage: 11.4+ MB\n"
     ]
    }
   ],
   "source": [
    "df.info()"
   ]
  },
  {
   "cell_type": "markdown",
   "metadata": {},
   "source": [
    "We notice the column '21' is now empty."
   ]
  },
  {
   "cell_type": "markdown",
   "metadata": {},
   "source": [
    "### Lab 4 Exercises"
   ]
  },
  {
   "cell_type": "code",
   "execution_count": 7,
   "metadata": {},
   "outputs": [],
   "source": [
    "# Function to format series as a dataframe\n",
    "def display(index):\n",
    "    temp = df[index].value_counts().to_frame()\n",
    "    temp.index.name = index\n",
    "    temp.columns = ['Counts']\n",
    "    return temp"
   ]
  },
  {
   "cell_type": "markdown",
   "metadata": {},
   "source": [
    "### Exercise 4A: Top Talkers & Listeners\n",
    "\n",
    "Assumption: We find Top Talkers & Listeners by the packet count, not the *total amount* of data sent.\n",
    "\n",
    "The IP addresses of the top 5 talkers are as shown, with counts corresponding to the number of packets."
   ]
  },
  {
   "cell_type": "code",
   "execution_count": 8,
   "metadata": {},
   "outputs": [
    {
     "data": {
      "text/html": [
       "<div>\n",
       "<style scoped>\n",
       "    .dataframe tbody tr th:only-of-type {\n",
       "        vertical-align: middle;\n",
       "    }\n",
       "\n",
       "    .dataframe tbody tr th {\n",
       "        vertical-align: top;\n",
       "    }\n",
       "\n",
       "    .dataframe thead th {\n",
       "        text-align: right;\n",
       "    }\n",
       "</style>\n",
       "<table border=\"1\" class=\"dataframe\">\n",
       "  <thead>\n",
       "    <tr style=\"text-align: right;\">\n",
       "      <th></th>\n",
       "      <th>Counts</th>\n",
       "    </tr>\n",
       "    <tr>\n",
       "      <th>src_IP</th>\n",
       "      <th></th>\n",
       "    </tr>\n",
       "  </thead>\n",
       "  <tbody>\n",
       "    <tr>\n",
       "      <th>193.62.192.8</th>\n",
       "      <td>3041</td>\n",
       "    </tr>\n",
       "    <tr>\n",
       "      <th>155.69.160.32</th>\n",
       "      <td>2975</td>\n",
       "    </tr>\n",
       "    <tr>\n",
       "      <th>130.14.250.11</th>\n",
       "      <td>2604</td>\n",
       "    </tr>\n",
       "    <tr>\n",
       "      <th>14.139.196.58</th>\n",
       "      <td>2452</td>\n",
       "    </tr>\n",
       "    <tr>\n",
       "      <th>140.112.8.139</th>\n",
       "      <td>2056</td>\n",
       "    </tr>\n",
       "  </tbody>\n",
       "</table>\n",
       "</div>"
      ],
      "text/plain": [
       "               Counts\n",
       "src_IP               \n",
       "193.62.192.8     3041\n",
       "155.69.160.32    2975\n",
       "130.14.250.11    2604\n",
       "14.139.196.58    2452\n",
       "140.112.8.139    2056"
      ]
     },
     "execution_count": 8,
     "metadata": {},
     "output_type": "execute_result"
    }
   ],
   "source": [
    "display('src_IP').head(5)"
   ]
  },
  {
   "cell_type": "markdown",
   "metadata": {},
   "source": [
    "IP addresses and counts shown below for top 5 listeners."
   ]
  },
  {
   "cell_type": "code",
   "execution_count": 9,
   "metadata": {},
   "outputs": [
    {
     "data": {
      "text/html": [
       "<div>\n",
       "<style scoped>\n",
       "    .dataframe tbody tr th:only-of-type {\n",
       "        vertical-align: middle;\n",
       "    }\n",
       "\n",
       "    .dataframe tbody tr th {\n",
       "        vertical-align: top;\n",
       "    }\n",
       "\n",
       "    .dataframe thead th {\n",
       "        text-align: right;\n",
       "    }\n",
       "</style>\n",
       "<table border=\"1\" class=\"dataframe\">\n",
       "  <thead>\n",
       "    <tr style=\"text-align: right;\">\n",
       "      <th></th>\n",
       "      <th>Counts</th>\n",
       "    </tr>\n",
       "    <tr>\n",
       "      <th>dst_IP</th>\n",
       "      <th></th>\n",
       "    </tr>\n",
       "  </thead>\n",
       "  <tbody>\n",
       "    <tr>\n",
       "      <th>103.37.198.100</th>\n",
       "      <td>3841</td>\n",
       "    </tr>\n",
       "    <tr>\n",
       "      <th>137.132.228.15</th>\n",
       "      <td>3715</td>\n",
       "    </tr>\n",
       "    <tr>\n",
       "      <th>202.21.159.244</th>\n",
       "      <td>2446</td>\n",
       "    </tr>\n",
       "    <tr>\n",
       "      <th>192.101.107.153</th>\n",
       "      <td>2368</td>\n",
       "    </tr>\n",
       "    <tr>\n",
       "      <th>103.21.126.2</th>\n",
       "      <td>2056</td>\n",
       "    </tr>\n",
       "  </tbody>\n",
       "</table>\n",
       "</div>"
      ],
      "text/plain": [
       "                 Counts\n",
       "dst_IP                 \n",
       "103.37.198.100     3841\n",
       "137.132.228.15     3715\n",
       "202.21.159.244     2446\n",
       "192.101.107.153    2368\n",
       "103.21.126.2       2056"
      ]
     },
     "execution_count": 9,
     "metadata": {},
     "output_type": "execute_result"
    }
   ],
   "source": [
    "display('dst_IP').head(5)"
   ]
  },
  {
   "cell_type": "markdown",
   "metadata": {},
   "source": [
    "### Exercise 4B: Transport Protocol\n",
    "Top 5 application uses shown by 5 most common port numbers.\n",
    "\n",
    "TCP: 6, UDP: 17"
   ]
  },
  {
   "cell_type": "code",
   "execution_count": 10,
   "metadata": {},
   "outputs": [],
   "source": [
    "df2 = df['IP_protocol'].value_counts().head()\n",
    "tcp_count = df2[6]\n",
    "udp_count = df2[17]"
   ]
  },
  {
   "cell_type": "code",
   "execution_count": 11,
   "metadata": {},
   "outputs": [
    {
     "name": "stdout",
     "output_type": "stream",
     "text": [
      "We observe that there are 56064 packets corresponding to the TCP protocol, and 9462 packets for the UDP protocol.\n"
     ]
    }
   ],
   "source": [
    "print('We observe that there are {} packets corresponding to the TCP protocol, and {} packets for the UDP protocol.'.format(tcp_count, udp_count))"
   ]
  },
  {
   "cell_type": "code",
   "execution_count": 12,
   "metadata": {},
   "outputs": [
    {
     "data": {
      "text/html": [
       "<div>\n",
       "<style scoped>\n",
       "    .dataframe tbody tr th:only-of-type {\n",
       "        vertical-align: middle;\n",
       "    }\n",
       "\n",
       "    .dataframe tbody tr th {\n",
       "        vertical-align: top;\n",
       "    }\n",
       "\n",
       "    .dataframe thead th {\n",
       "        text-align: right;\n",
       "    }\n",
       "</style>\n",
       "<table border=\"1\" class=\"dataframe\">\n",
       "  <thead>\n",
       "    <tr style=\"text-align: right;\">\n",
       "      <th></th>\n",
       "      <th>% Percentage</th>\n",
       "    </tr>\n",
       "  </thead>\n",
       "  <tbody>\n",
       "    <tr>\n",
       "      <th>TCP</th>\n",
       "      <td>82.368324</td>\n",
       "    </tr>\n",
       "    <tr>\n",
       "      <th>UDP</th>\n",
       "      <td>13.901418</td>\n",
       "    </tr>\n",
       "  </tbody>\n",
       "</table>\n",
       "</div>"
      ],
      "text/plain": [
       "     % Percentage\n",
       "TCP     82.368324\n",
       "UDP     13.901418"
      ]
     },
     "execution_count": 12,
     "metadata": {},
     "output_type": "execute_result"
    }
   ],
   "source": [
    "ex4b = pd.DataFrame(data=[(tcp_count)*(100/len(df)), (udp_count)*(100/len(df))], index=['TCP', 'UDP'], columns=['% Percentage'])\n",
    "ex4b"
   ]
  },
  {
   "cell_type": "markdown",
   "metadata": {},
   "source": [
    "### Exercise 4C: Applications Protocol\n",
    "Port numbers define the application service requested."
   ]
  },
  {
   "cell_type": "code",
   "execution_count": 13,
   "metadata": {},
   "outputs": [
    {
     "data": {
      "text/html": [
       "<div>\n",
       "<style scoped>\n",
       "    .dataframe tbody tr th:only-of-type {\n",
       "        vertical-align: middle;\n",
       "    }\n",
       "\n",
       "    .dataframe tbody tr th {\n",
       "        vertical-align: top;\n",
       "    }\n",
       "\n",
       "    .dataframe thead th {\n",
       "        text-align: right;\n",
       "    }\n",
       "</style>\n",
       "<table border=\"1\" class=\"dataframe\">\n",
       "  <thead>\n",
       "    <tr style=\"text-align: right;\">\n",
       "      <th></th>\n",
       "      <th>Counts</th>\n",
       "    </tr>\n",
       "    <tr>\n",
       "      <th>udp_dst_port/tcp_dst_port/icmp_code</th>\n",
       "      <th></th>\n",
       "    </tr>\n",
       "  </thead>\n",
       "  <tbody>\n",
       "    <tr>\n",
       "      <th>443</th>\n",
       "      <td>13423</td>\n",
       "    </tr>\n",
       "    <tr>\n",
       "      <th>80</th>\n",
       "      <td>2647</td>\n",
       "    </tr>\n",
       "    <tr>\n",
       "      <th>52866</th>\n",
       "      <td>2068</td>\n",
       "    </tr>\n",
       "    <tr>\n",
       "      <th>45512</th>\n",
       "      <td>1356</td>\n",
       "    </tr>\n",
       "    <tr>\n",
       "      <th>56152</th>\n",
       "      <td>1341</td>\n",
       "    </tr>\n",
       "  </tbody>\n",
       "</table>\n",
       "</div>"
      ],
      "text/plain": [
       "                                     Counts\n",
       "udp_dst_port/tcp_dst_port/icmp_code        \n",
       "443                                   13423\n",
       "80                                     2647\n",
       "52866                                  2068\n",
       "45512                                  1356\n",
       "56152                                  1341"
      ]
     },
     "execution_count": 13,
     "metadata": {},
     "output_type": "execute_result"
    }
   ],
   "source": [
    "display('udp_dst_port/tcp_dst_port/icmp_code').head(5)"
   ]
  },
  {
   "cell_type": "markdown",
   "metadata": {},
   "source": [
    "443: HTTPS\n",
    "\n",
    "0: Reserved port; should not be used for TCP/UDP\n",
    "- Packets that do not need port numbers (like ICMP) use port 0\n",
    "- For linux based systems: to get the next available port from the OS (dynamically allocated ports)\n",
    "    \n",
    "Port numbers like 56152 or 43930: Private ports\n",
    "\n",
    "80: HTTP"
   ]
  },
  {
   "cell_type": "markdown",
   "metadata": {},
   "source": [
    "### Exercise 4D: Traffic Intensity\n",
    "\n",
    "Using the packet sizes of all the packets, we can calculate the total traffic in MBs."
   ]
  },
  {
   "cell_type": "code",
   "execution_count": 14,
   "metadata": {},
   "outputs": [],
   "source": [
    "ex4d = df['packet_size']"
   ]
  },
  {
   "cell_type": "code",
   "execution_count": 15,
   "metadata": {},
   "outputs": [
    {
     "name": "stdout",
     "output_type": "stream",
     "text": [
      "Size of all 68065 packets: approx. 63.13 MBs\n"
     ]
    }
   ],
   "source": [
    "print('Size of all {0} packets: approx. {1:.2f} MBs'.format(len(ex4d), (ex4d.sum())/(2**20))) # Convert to MegaBytes"
   ]
  },
  {
   "cell_type": "markdown",
   "metadata": {},
   "source": [
    "### Exercise 4E: Additional Analysis\n",
    "\n",
    "Top 5 Communication pairs are obtained by grouping by src_IP (grouping by dst_IP will work as well)"
   ]
  },
  {
   "cell_type": "code",
   "execution_count": 16,
   "metadata": {},
   "outputs": [
    {
     "data": {
      "text/html": [
       "<div>\n",
       "<style scoped>\n",
       "    .dataframe tbody tr th:only-of-type {\n",
       "        vertical-align: middle;\n",
       "    }\n",
       "\n",
       "    .dataframe tbody tr th {\n",
       "        vertical-align: top;\n",
       "    }\n",
       "\n",
       "    .dataframe thead th {\n",
       "        text-align: right;\n",
       "    }\n",
       "</style>\n",
       "<table border=\"1\" class=\"dataframe\">\n",
       "  <thead>\n",
       "    <tr style=\"text-align: right;\">\n",
       "      <th></th>\n",
       "      <th></th>\n",
       "      <th>Counts</th>\n",
       "    </tr>\n",
       "    <tr>\n",
       "      <th>src_IP</th>\n",
       "      <th>dst_IP</th>\n",
       "      <th></th>\n",
       "    </tr>\n",
       "  </thead>\n",
       "  <tbody>\n",
       "    <tr>\n",
       "      <th>193.62.192.8</th>\n",
       "      <th>137.132.228.15</th>\n",
       "      <td>3041</td>\n",
       "    </tr>\n",
       "    <tr>\n",
       "      <th>130.14.250.11</th>\n",
       "      <th>103.37.198.100</th>\n",
       "      <td>2599</td>\n",
       "    </tr>\n",
       "    <tr>\n",
       "      <th>14.139.196.58</th>\n",
       "      <th>192.101.107.153</th>\n",
       "      <td>2368</td>\n",
       "    </tr>\n",
       "    <tr>\n",
       "      <th>140.112.8.139</th>\n",
       "      <th>103.21.126.2</th>\n",
       "      <td>2056</td>\n",
       "    </tr>\n",
       "    <tr>\n",
       "      <th>137.132.228.15</th>\n",
       "      <th>193.62.192.8</th>\n",
       "      <td>1910</td>\n",
       "    </tr>\n",
       "    <tr>\n",
       "      <th>...</th>\n",
       "      <th>...</th>\n",
       "      <td>...</td>\n",
       "    </tr>\n",
       "    <tr>\n",
       "      <th>168.95.43.158</th>\n",
       "      <th>123.136.71.68</th>\n",
       "      <td>1</td>\n",
       "    </tr>\n",
       "    <tr>\n",
       "      <th>168.96.248.140</th>\n",
       "      <th>203.135.190.4</th>\n",
       "      <td>1</td>\n",
       "    </tr>\n",
       "    <tr>\n",
       "      <th>169.229.216.9</th>\n",
       "      <th>202.170.60.242</th>\n",
       "      <td>1</td>\n",
       "    </tr>\n",
       "    <tr>\n",
       "      <th>17.171.98.34</th>\n",
       "      <th>220.156.176.6</th>\n",
       "      <td>1</td>\n",
       "    </tr>\n",
       "    <tr>\n",
       "      <th>-</th>\n",
       "      <th>-</th>\n",
       "      <td>1</td>\n",
       "    </tr>\n",
       "  </tbody>\n",
       "</table>\n",
       "<p>5707 rows × 1 columns</p>\n",
       "</div>"
      ],
      "text/plain": [
       "                                Counts\n",
       "src_IP         dst_IP                 \n",
       "193.62.192.8   137.132.228.15     3041\n",
       "130.14.250.11  103.37.198.100     2599\n",
       "14.139.196.58  192.101.107.153    2368\n",
       "140.112.8.139  103.21.126.2       2056\n",
       "137.132.228.15 193.62.192.8       1910\n",
       "...                                ...\n",
       "168.95.43.158  123.136.71.68         1\n",
       "168.96.248.140 203.135.190.4         1\n",
       "169.229.216.9  202.170.60.242        1\n",
       "17.171.98.34   220.156.176.6         1\n",
       "-              -                     1\n",
       "\n",
       "[5707 rows x 1 columns]"
      ]
     },
     "execution_count": 16,
     "metadata": {},
     "output_type": "execute_result"
    }
   ],
   "source": [
    "ex4e = df.groupby(['src_IP', 'dst_IP']).size().sort_values(ascending=False).to_frame()\n",
    "ex4e.columns = ['Counts']\n",
    "ex4e"
   ]
  },
  {
   "cell_type": "markdown",
   "metadata": {},
   "source": [
    "Visualing communication between different IP hosts"
   ]
  },
  {
   "cell_type": "code",
   "execution_count": 17,
   "metadata": {},
   "outputs": [
    {
     "data": {
      "image/png": "[encoded data removed]",
      "text/plain": [
       "<Figure size 360x720 with 1 Axes>"
      ]
     },
     "metadata": {
      "needs_background": "light"
     },
     "output_type": "display_data"
    }
   ],
   "source": [
    "fig, ax = plt.subplots(figsize=(5,10))\n",
    "labels = [i[0] + \" to \" + i[1] for i in ex4e.head(5).index]\n",
    "values = [v for v in ex4e.head(5).Counts]\n",
    "index = np.arange(len(values))\n",
    "\n",
    "ax.barh(index, values, align=\"center\", color='orange')\n",
    "ax.set_yticks(index)\n",
    "ax.set_yticklabels(labels)\n",
    "ax.set_xlabel(\"Counts (No. of packets)\")\n",
    "ax.set_title(\"Top 5 Communication Pairs\")\n",
    "\n",
    "# Annotate\n",
    "for i, v in enumerate(values):\n",
    "    ax.text(v+2, i+0.1, str(v), color='red')\n",
    "\n",
    "ax.invert_yaxis() # Invert to show highest count on top"
   ]
  },
  {
   "cell_type": "markdown",
   "metadata": {},
   "source": [
    "For the top communication pair - between 193.162.192.8 and 137.132.228.15\n",
    "\n",
    "From the [mxtoolbox IP Lookup Tool](https://mxtoolbox.com/SuperTool.aspx?action=arin%3a193.62.192.8&run=toolpage), it appears to be communication packets between EU Bioinformatics Institute and National University of Singapore (NUS)."
   ]
  }
 ],
 "metadata": {
  "kernelspec": {
   "display_name": "Python 3",
   "language": "python",
   "name": "python3"
  },
  "language_info": {
   "codemirror_mode": {
    "name": "ipython",
    "version": 3
   },
   "file_extension": ".py",
   "mimetype": "text/x-python",
   "name": "python",
   "nbconvert_exporter": "python",
   "pygments_lexer": "ipython3",
   "version": "3.7.5"
  }
 },
 "nbformat": 4,
 "nbformat_minor": 4
}
